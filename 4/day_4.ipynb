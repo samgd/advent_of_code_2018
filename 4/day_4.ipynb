{
 "cells": [
  {
   "cell_type": "markdown",
   "metadata": {},
   "source": [
    "## Advent of Code - Day 4"
   ]
  },
  {
   "cell_type": "code",
   "execution_count": 1,
   "metadata": {},
   "outputs": [],
   "source": [
    "import tempfile\n",
    "from contextlib import contextmanager"
   ]
  },
  {
   "cell_type": "code",
   "execution_count": 2,
   "metadata": {},
   "outputs": [],
   "source": [
    "@contextmanager\n",
    "def test_file(test_input):\n",
    "    with tempfile.NamedTemporaryFile('r+') as f:\n",
    "        f.write(test_input)\n",
    "        f.seek(0)\n",
    "        yield f"
   ]
  },
  {
   "cell_type": "markdown",
   "metadata": {},
   "source": [
    "### Part 1"
   ]
  },
  {
   "cell_type": "markdown",
   "metadata": {},
   "source": [
    "The idea is to parse the input and sort the records by date and time. Once sorted they can be iterated through in order, incrementing the total time spent asleep by each guard _and_ incrementing each individual minute sleep count. This is $O(n\\log n)$ time where $n$ is the total number of records. \n",
    "\n",
    "Once this data structure has been created we find the guard whose sleep time is maximal - taking $O(k)$ where $k$ is the total number of guards - and then scan through this guard's array to find the minute with greatest total sleep time ($O(1)$ as there are a fixed number of minutes to scan through!). "
   ]
  },
  {
   "cell_type": "code",
   "execution_count": 3,
   "metadata": {},
   "outputs": [],
   "source": [
    "import datetime\n",
    "import re\n",
    "from collections import defaultdict"
   ]
  },
  {
   "cell_type": "code",
   "execution_count": 4,
   "metadata": {},
   "outputs": [],
   "source": [
    "class Record:\n",
    "    PATTERN = re.compile('^\\[(\\d\\d\\d\\d)-(\\d\\d)-(\\d\\d) (\\d\\d):(\\d\\d)]\\s*(.*)')\n",
    "    \n",
    "    def __init__(self, record_datetime):\n",
    "        self.record_datetime = record_datetime\n",
    "        \n",
    "    def __lt__(self, other):\n",
    "        return self.record_datetime < other.record_datetime\n",
    "    \n",
    "    def __repr__(self):\n",
    "        params = ', '.join(['%s=%r' % e for e in self.__dict__.items()])\n",
    "        return self.__class__.__name__ + '(' + params + ')'\n",
    "    \n",
    "\n",
    "class BeginShift(Record):\n",
    "    PATTERN = re.compile('Guard #(\\d+) begins shift')\n",
    "    \n",
    "    def __init__(self, record_datetime, guard_id):\n",
    "        super().__init__(record_datetime)\n",
    "        self.guard_id = guard_id\n",
    "        \n",
    "\n",
    "class Awake(Record):\n",
    "    PATTERN = re.compile('wakes up')\n",
    "\n",
    "\n",
    "class Asleep(Record):\n",
    "    PATTERN = re.compile('falls asleep')\n",
    "\n",
    "\n",
    "def parse_record(record_str):\n",
    "    # naive regex: use datetime to validate date and time\n",
    "    match = Record.PATTERN.match(record_str)\n",
    "    if match is None:\n",
    "        raise ValueError('invalid `record_str`: %r' % record_str)\n",
    "        \n",
    "    groups = match.groups()\n",
    "    record_datetime = datetime.datetime(year=int(groups[0]),\n",
    "                                        month=int(groups[1]),\n",
    "                                        day=int(groups[2]),\n",
    "                                        hour=int(groups[3]),\n",
    "                                        minute=int(groups[4]))\n",
    "    \n",
    "    match = BeginShift.PATTERN.match(groups[-1])\n",
    "    if match is not None:\n",
    "        return BeginShift(record_datetime, int(match.groups()[0]))\n",
    "    \n",
    "    for record in [Awake, Asleep]:\n",
    "        match = record.PATTERN.match(groups[-1])\n",
    "        if match is not None:\n",
    "            return record(record_datetime)\n",
    "                                        \n",
    "    raise ValueError('invalid `record_str`: %r' % record_str)\n",
    "    \n",
    "def parse_records(path):\n",
    "    with open(path, 'r') as f:\n",
    "        for record_str in f:\n",
    "            yield parse_record(record_str)"
   ]
  },
  {
   "cell_type": "markdown",
   "metadata": {},
   "source": [
    "Try this on the example input (note to self to abstract the test functionality out to a file when there's time!):"
   ]
  },
  {
   "cell_type": "code",
   "execution_count": 5,
   "metadata": {},
   "outputs": [
    {
     "name": "stdout",
     "output_type": "stream",
     "text": [
      "BeginShift(record_datetime=datetime.datetime(1518, 11, 1, 0, 0), guard_id=10)\n",
      "Asleep(record_datetime=datetime.datetime(1518, 11, 1, 0, 5))\n",
      "Awake(record_datetime=datetime.datetime(1518, 11, 1, 0, 25))\n",
      "Asleep(record_datetime=datetime.datetime(1518, 11, 1, 0, 30))\n",
      "Awake(record_datetime=datetime.datetime(1518, 11, 1, 0, 55))\n",
      "BeginShift(record_datetime=datetime.datetime(1518, 11, 1, 23, 58), guard_id=99)\n",
      "Asleep(record_datetime=datetime.datetime(1518, 11, 2, 0, 40))\n",
      "Awake(record_datetime=datetime.datetime(1518, 11, 2, 0, 50))\n",
      "BeginShift(record_datetime=datetime.datetime(1518, 11, 3, 0, 5), guard_id=10)\n",
      "Asleep(record_datetime=datetime.datetime(1518, 11, 3, 0, 24))\n",
      "Awake(record_datetime=datetime.datetime(1518, 11, 3, 0, 29))\n",
      "BeginShift(record_datetime=datetime.datetime(1518, 11, 4, 0, 2), guard_id=99)\n",
      "Asleep(record_datetime=datetime.datetime(1518, 11, 4, 0, 36))\n",
      "Awake(record_datetime=datetime.datetime(1518, 11, 4, 0, 46))\n",
      "BeginShift(record_datetime=datetime.datetime(1518, 11, 5, 0, 3), guard_id=99)\n",
      "Asleep(record_datetime=datetime.datetime(1518, 11, 5, 0, 45))\n",
      "Awake(record_datetime=datetime.datetime(1518, 11, 5, 0, 55))\n"
     ]
    }
   ],
   "source": [
    "test_input = \"\"\"[1518-11-01 00:00] Guard #10 begins shift\n",
    "[1518-11-01 00:05] falls asleep\n",
    "[1518-11-01 00:25] wakes up\n",
    "[1518-11-01 00:30] falls asleep\n",
    "[1518-11-01 00:55] wakes up\n",
    "[1518-11-01 23:58] Guard #99 begins shift\n",
    "[1518-11-02 00:40] falls asleep\n",
    "[1518-11-02 00:50] wakes up\n",
    "[1518-11-03 00:05] Guard #10 begins shift\n",
    "[1518-11-03 00:24] falls asleep\n",
    "[1518-11-03 00:29] wakes up\n",
    "[1518-11-04 00:02] Guard #99 begins shift\n",
    "[1518-11-04 00:36] falls asleep\n",
    "[1518-11-04 00:46] wakes up\n",
    "[1518-11-05 00:03] Guard #99 begins shift\n",
    "[1518-11-05 00:45] falls asleep\n",
    "[1518-11-05 00:55] wakes up\n",
    "\"\"\"\n",
    "\n",
    "with test_file(test_input) as f:\n",
    "    for record in parse_records(f.name):\n",
    "        print(record)"
   ]
  },
  {
   "cell_type": "markdown",
   "metadata": {},
   "source": [
    "Looking OK! Now to sort and generate the data structure described above."
   ]
  },
  {
   "cell_type": "code",
   "execution_count": 6,
   "metadata": {},
   "outputs": [],
   "source": [
    "def guard_stats(records):\n",
    "    \"\"\"Returns a dict of per guard total and per minute sleep counts.\"\"\"\n",
    "    stats = defaultdict(lambda: {'total': 0, 'per_min': [0]*60})\n",
    "    \n",
    "    cur_guard = None\n",
    "    asleep = None\n",
    "    \n",
    "    for record in sorted(records):\n",
    "        if isinstance(record, BeginShift):\n",
    "            cur_guard = record.guard_id\n",
    "        elif isinstance(record, Awake):\n",
    "            awake = record.record_datetime.minute\n",
    "            stats[cur_guard]['total'] += awake - asleep\n",
    "            for minute in range(asleep, awake):\n",
    "                stats[cur_guard]['per_min'][minute] += 1\n",
    "            asleep = None\n",
    "        elif isinstance(record, Asleep):\n",
    "            asleep = record.record_datetime.minute\n",
    "            \n",
    "    return stats\n",
    "\n",
    "def tiredest_guard(stats):\n",
    "    \"\"\"Returns the tiredest guard's total and per minute sleep counts.\"\"\"\n",
    "    tiredest = None\n",
    "    for guard_id, stat in stats.items():\n",
    "        if tiredest is None or tiredest[1]['total'] < stat['total']:\n",
    "            tiredest = (guard_id, stat)\n",
    "    return tiredest\n",
    "\n",
    "def argmax(iterable):\n",
    "    \"\"\"Computes argmax over the given iterable.\"\"\" \n",
    "    max_idx = None\n",
    "    max_val = None\n",
    "    for i, val in enumerate(iterable):\n",
    "        if max_val is None or max_val < val:\n",
    "            max_idx = i\n",
    "            max_val = val\n",
    "    return max_idx, max_val\n",
    "\n",
    "def strategy_1(path):\n",
    "    \"\"\"Computes strategy 1 given records from the file at path.\"\"\"\n",
    "    guard_id, stats = tiredest_guard(guard_stats(parse_records(path)))\n",
    "    minute, _ = argmax(stats['per_min'])\n",
    "    return guard_id * minute"
   ]
  },
  {
   "cell_type": "markdown",
   "metadata": {},
   "source": [
    "Check that the above works on the test input:"
   ]
  },
  {
   "cell_type": "code",
   "execution_count": 7,
   "metadata": {},
   "outputs": [
    {
     "name": "stdout",
     "output_type": "stream",
     "text": [
      "240\n"
     ]
    }
   ],
   "source": [
    "with test_file(test_input) as f:\n",
    "    print(strategy_1(f.name))"
   ]
  },
  {
   "cell_type": "markdown",
   "metadata": {},
   "source": [
    "Compute using real input:"
   ]
  },
  {
   "cell_type": "code",
   "execution_count": 8,
   "metadata": {},
   "outputs": [
    {
     "name": "stdout",
     "output_type": "stream",
     "text": [
      "day_4.ipynb  input\n"
     ]
    }
   ],
   "source": [
    "!ls"
   ]
  },
  {
   "cell_type": "code",
   "execution_count": 9,
   "metadata": {},
   "outputs": [
    {
     "data": {
      "text/plain": [
       "19874"
      ]
     },
     "execution_count": 9,
     "metadata": {},
     "output_type": "execute_result"
    }
   ],
   "source": [
    "strategy_1('input')"
   ]
  },
  {
   "cell_type": "markdown",
   "metadata": {},
   "source": [
    "### Part 2\n",
    "\n",
    "Part 1 gave us a function which returned the per-minute statistics for all guards in $O(n \\log n)$. The idea for part 2 is to iterate of each guard and find the most-frequent minute spent asleep from the corresponding statistics. The maximum minute and frequency will be recorded and used to compute the answer. This is also $O(k)$."
   ]
  },
  {
   "cell_type": "code",
   "execution_count": 10,
   "metadata": {},
   "outputs": [],
   "source": [
    "def most_freq_asleep(stats):\n",
    "    \"\"\"Returns ID and most freq min of guard who most frequently sleeps.\"\"\"\n",
    "    sleepiest_id = None\n",
    "    sleepiest_min = None\n",
    "    sleepiest_count = None\n",
    "    \n",
    "    for guard_id, stat in stats.items():\n",
    "        minute, minute_count = argmax(stat['per_min'])\n",
    "        if sleepiest_count is None or sleepiest_count < minute_count:\n",
    "            sleepiest_id = guard_id\n",
    "            sleepiest_min = minute\n",
    "            sleepiest_count = minute_count\n",
    "        \n",
    "    return sleepiest_id, sleepiest_min\n",
    "\n",
    "def strategy_2(path):\n",
    "    \"\"\"Computes strategy 2 given records from the file at path.\"\"\"\n",
    "    records = parse_records(path)\n",
    "    sleepiest_id, sleepiest_minute = most_freq_asleep(guard_stats(records))\n",
    "    return sleepiest_id * sleepiest_minute"
   ]
  },
  {
   "cell_type": "markdown",
   "metadata": {},
   "source": [
    "Check that the above works on test input:"
   ]
  },
  {
   "cell_type": "code",
   "execution_count": 11,
   "metadata": {},
   "outputs": [
    {
     "name": "stdout",
     "output_type": "stream",
     "text": [
      "4455\n"
     ]
    }
   ],
   "source": [
    "with test_file(test_input) as f:\n",
    "    print(strategy_2(f.name))"
   ]
  },
  {
   "cell_type": "markdown",
   "metadata": {},
   "source": [
    "Compute using real input:"
   ]
  },
  {
   "cell_type": "code",
   "execution_count": 12,
   "metadata": {},
   "outputs": [
    {
     "data": {
      "text/plain": [
       "22687"
      ]
     },
     "execution_count": 12,
     "metadata": {},
     "output_type": "execute_result"
    }
   ],
   "source": [
    "strategy_2('input')"
   ]
  }
 ],
 "metadata": {
  "kernelspec": {
   "display_name": "Python 3",
   "language": "python",
   "name": "python3"
  },
  "language_info": {
   "codemirror_mode": {
    "name": "ipython",
    "version": 3
   },
   "file_extension": ".py",
   "mimetype": "text/x-python",
   "name": "python",
   "nbconvert_exporter": "python",
   "pygments_lexer": "ipython3",
   "version": "3.7.1"
  }
 },
 "nbformat": 4,
 "nbformat_minor": 2
}
