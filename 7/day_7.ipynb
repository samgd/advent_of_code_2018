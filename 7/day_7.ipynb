{
 "cells": [
  {
   "cell_type": "markdown",
   "metadata": {},
   "source": [
    "## Advent of Code - Day 7"
   ]
  },
  {
   "cell_type": "code",
   "execution_count": 6,
   "metadata": {},
   "outputs": [],
   "source": [
    "import tempfile\n",
    "from contextlib import contextmanager"
   ]
  },
  {
   "cell_type": "code",
   "execution_count": 7,
   "metadata": {},
   "outputs": [],
   "source": [
    "@contextmanager\n",
    "def test_file(test_input):\n",
    "    with tempfile.NamedTemporaryFile('r+') as f:\n",
    "        f.write(test_input)\n",
    "        f.seek(0)\n",
    "        yield f"
   ]
  },
  {
   "cell_type": "markdown",
   "metadata": {},
   "source": [
    "### Part 1\n",
    "\n",
    "Idea: Build a graph to encode the ordering of steps. Keep a priority queue of all executable steps sorted alphabetically by step name. Initialise the priority queue with steps that have no requirements. Whilst the priority queue is not empty extract the next step, execute it, and reduce the parent count for each child by 1. If the parent count for a given child reaches 0, add the child to the priority queue. \n",
    "\n",
    "We'll use an adjacency list representation for the graph under the assumption that it is sparse. For ease of implementation we'll also assume that the instructions are well-formed and do not contain duplicate requirements (edges) or circular dependencies (something that could be checked by doing a DFS search first!). Building the graph is $O(m)$ where $m$ is the number of edges (number of lines in input file).\n",
    "\n",
    "All that remains is to iterate over the priority queue until it is empty. Finding the initial steps is $O(n)$. Each step is inserted once and extracted once from the priority queue making this have a complexity of $O(n\\log n)$. During the process each edge is iterated over once as the children of each step are looped over - this is $O(m)$. Hence the total complexity is $O(n\\log n + m)$.\n",
    "\n",
    "With a plan in place lets begin implementing it! Beginning reading each edge from the instruction input file:"
   ]
  },
  {
   "cell_type": "code",
   "execution_count": 133,
   "metadata": {},
   "outputs": [],
   "source": [
    "import heapq\n",
    "import re\n",
    "from collections import UserDict"
   ]
  },
  {
   "cell_type": "code",
   "execution_count": 134,
   "metadata": {},
   "outputs": [],
   "source": [
    "def get_edges(path):\n",
    "    \"\"\"Yields each edge (parent, child) requirement for the graph stored at path.\"\"\"\n",
    "    pattern = re.compile('^Step ([A-Z]+) must be finished before step ([A-Z]+) can begin.\\n?$')\n",
    "    with open(path, 'r') as f:\n",
    "        for requirement in f:\n",
    "            match = pattern.match(requirement)\n",
    "            if not match:\n",
    "                raise ValueError('invalid instruction file: %r' % path)\n",
    "            yield match.groups()"
   ]
  },
  {
   "cell_type": "code",
   "execution_count": 135,
   "metadata": {},
   "outputs": [],
   "source": [
    "test_input = \"\"\"Step C must be finished before step A can begin.\n",
    "Step C must be finished before step F can begin.\n",
    "Step A must be finished before step B can begin.\n",
    "Step A must be finished before step D can begin.\n",
    "Step B must be finished before step E can begin.\n",
    "Step D must be finished before step E can begin.\n",
    "Step F must be finished before step E can begin.\n",
    "\"\"\""
   ]
  },
  {
   "cell_type": "code",
   "execution_count": 136,
   "metadata": {},
   "outputs": [
    {
     "name": "stdout",
     "output_type": "stream",
     "text": [
      "('C', 'A')\n",
      "('C', 'F')\n",
      "('A', 'B')\n",
      "('A', 'D')\n",
      "('B', 'E')\n",
      "('D', 'E')\n",
      "('F', 'E')\n"
     ]
    }
   ],
   "source": [
    "with test_file(test_input) as f:\n",
    "    for edge in get_edges(f.name): \n",
    "        print(edge)"
   ]
  },
  {
   "cell_type": "markdown",
   "metadata": {},
   "source": [
    "Now we can build the graph. Start by defining a node in the graph:"
   ]
  },
  {
   "cell_type": "code",
   "execution_count": 142,
   "metadata": {},
   "outputs": [],
   "source": [
    "class Step:\n",
    "    \"\"\"A single Step in a sequence of instructions.\n",
    "    \n",
    "    Args:\n",
    "        name (str): Name of the Step.\n",
    "    \n",
    "    Attributes:\n",
    "        name (str): See Args.\n",
    "        children (list of Step): Steps that can only be performed\n",
    "            once this Step is complete.\n",
    "        n_parent (int): Number of Steps still to perform before\n",
    "            this Step can be executed.\n",
    "    \"\"\"\n",
    "    \n",
    "    def __init__(self, name):\n",
    "        self.name = name\n",
    "        self.children = []\n",
    "        self.n_parent = 0\n",
    "        \n",
    "    def add_child(self, child):\n",
    "        self.children.append(child)\n",
    "        child.n_parent += 1\n",
    "        \n",
    "    def __lt__(self, other):\n",
    "        return self.name < other.name\n",
    "    \n",
    "    def __repr__(self):\n",
    "        return 'Step(name=%r, children=%r, n_parent=%r)' % (\n",
    "            self.name, [c.name for c in self.children], self.n_parent\n",
    "        )"
   ]
  },
  {
   "cell_type": "markdown",
   "metadata": {},
   "source": [
    "And then building up adjacency list structure:"
   ]
  },
  {
   "cell_type": "code",
   "execution_count": 143,
   "metadata": {},
   "outputs": [],
   "source": [
    "class Instructions(UserDict):\n",
    "    \"\"\"A set of Steps.\"\"\"\n",
    "    \n",
    "    def get_step(self, step_name):\n",
    "        \"\"\"Returns the step at `step_name`. \n",
    "        \n",
    "        The Step will be created if not exist.\n",
    "        \"\"\"\n",
    "        try:\n",
    "            step = self.data[step_name]\n",
    "        except KeyError:\n",
    "            step = Step(step_name)\n",
    "            self.data[step_name] = step\n",
    "        return step\n",
    "\n",
    "\n",
    "def build_instructions(edges):\n",
    "    \"\"\"Returns an `Instructions` instance for steps specified by `edges`.\"\"\"\n",
    "    instructions = Instructions()\n",
    "    for parent, child in edges:\n",
    "        child_step = instructions.get_step(child)\n",
    "        instructions.get_step(parent).add_child(child_step)\n",
    "    return instructions"
   ]
  },
  {
   "cell_type": "code",
   "execution_count": 144,
   "metadata": {},
   "outputs": [
    {
     "name": "stdout",
     "output_type": "stream",
     "text": [
      "Step(name='A', children=['B', 'D'], n_parent=1)\n",
      "Step(name='C', children=['A', 'F'], n_parent=0)\n",
      "Step(name='F', children=['E'], n_parent=1)\n",
      "Step(name='B', children=['E'], n_parent=1)\n",
      "Step(name='D', children=['E'], n_parent=1)\n",
      "Step(name='E', children=[], n_parent=3)\n"
     ]
    }
   ],
   "source": [
    "with test_file(test_input) as f:\n",
    "    instructions = build_instructions(get_edges(f.name))\n",
    "    for step in instructions.values():\n",
    "        print(step)"
   ]
  },
  {
   "cell_type": "markdown",
   "metadata": {},
   "source": [
    "Matches the example graph! Now to execute the instructions:"
   ]
  },
  {
   "cell_type": "code",
   "execution_count": 159,
   "metadata": {},
   "outputs": [],
   "source": [
    "def execute(instructions):\n",
    "    \"\"\"Returns a list of step names in execution order.\"\"\"\n",
    "    heap = []\n",
    "    \n",
    "    # find steps with no requirements\n",
    "    for step in instructions.values():\n",
    "        if step.n_parent == 0:\n",
    "            heapq.heappush(heap, step)\n",
    "\n",
    "    step_order = []\n",
    "    while heap:\n",
    "        step = heapq.heappop(heap)\n",
    "        step_order.append(step.name)\n",
    "        for child in step.children:\n",
    "            child.n_parent -= 1\n",
    "            if child.n_parent == 0:\n",
    "                heapq.heappush(heap, child)\n",
    "        \n",
    "    return step_order"
   ]
  },
  {
   "cell_type": "code",
   "execution_count": 163,
   "metadata": {},
   "outputs": [
    {
     "name": "stdout",
     "output_type": "stream",
     "text": [
      "CABDFE True\n"
     ]
    }
   ],
   "source": [
    "with test_file(test_input) as f:\n",
    "    instructions = build_instructions(get_edges(f.name))\n",
    "    step_order = ''.join(execute(instructions))\n",
    "    print(step_order, step_order == \"CABDFE\")"
   ]
  },
  {
   "cell_type": "markdown",
   "metadata": {},
   "source": [
    "Now to run on the real input:"
   ]
  },
  {
   "cell_type": "code",
   "execution_count": 164,
   "metadata": {},
   "outputs": [
    {
     "name": "stdout",
     "output_type": "stream",
     "text": [
      "LFMNJRTQVZCHIABKPXYEUGWDSO\n"
     ]
    }
   ],
   "source": [
    "instructions = build_instructions(get_edges('input'))\n",
    "print(''.join(execute(instructions)))"
   ]
  },
  {
   "cell_type": "markdown",
   "metadata": {},
   "source": [
    "### Part 2\n",
    "\n",
    "We augment the `execute` function above with an additional priority queue, called `exec_heap` that keeps track of steps that are in execution (i.e. an elf has been assigned to that step). `exec_heap` stores a `[execution time remaining, step]` pair and is ordered by `execution time remaining`. There can be at most `n_elves` entries in `exec_heap` at any one time. Tasks are moved into the `exec_heap` from the original `heap`, now renamed `todo_heap`, when an elf is available. \n",
    "\n",
    "We avoid ticking in one second increments by fast-forwarding time to the next to complete entry in `exec_heap`. "
   ]
  },
  {
   "cell_type": "code",
   "execution_count": 222,
   "metadata": {},
   "outputs": [],
   "source": [
    "def execute_time(step, base_time):\n",
    "    \"\"\"Returns the time required for step to be completed.\"\"\"\n",
    "    return ord(step.name) - ord('A') + 1 + base_time"
   ]
  },
  {
   "cell_type": "code",
   "execution_count": 223,
   "metadata": {},
   "outputs": [],
   "source": [
    "def timed_execute(instructions, base_time, n_elves):\n",
    "    \"\"\"Returns the total execution time and a list of (step name, completion time).\"\"\"\n",
    "    todo_heap = []  # available to execute\n",
    "    exec_heap = []  # being executed\n",
    "    \n",
    "    # find steps with no requirements\n",
    "    for step in instructions.values():\n",
    "        if step.n_parent == 0:\n",
    "            heapq.heappush(todo_heap, step)\n",
    "\n",
    "    total_time = 0\n",
    "    step_order = []\n",
    "    while todo_heap or exec_heap:\n",
    "        if exec_heap:\n",
    "            # fast forward time to complete next step\n",
    "            exec_time, step = heapq.heappop(exec_heap)\n",
    "            total_time += exec_time\n",
    "            \n",
    "            step_order.append((total_time, step.name))\n",
    "            \n",
    "            for i in range(len(exec_heap)):\n",
    "                # OK as order is preserved\n",
    "                exec_heap[i][0] -= exec_time\n",
    "            \n",
    "            # maybe add child steps to `todo_steps`\n",
    "            for child in step.children:\n",
    "                child.n_parent -= 1\n",
    "                if child.n_parent == 0:\n",
    "                    heapq.heappush(todo_heap, child)\n",
    "                    \n",
    "        # load up available elves with `todo_steps`, if any\n",
    "        for _ in range(n_elves - len(exec_heap)):\n",
    "            if len(todo_heap) == 0:\n",
    "                # no steps available!\n",
    "                break\n",
    "                \n",
    "            todo = heapq.heappop(todo_heap)\n",
    "            heapq.heappush(exec_heap, [execute_time(todo, base_time), todo])\n",
    "            \n",
    "    return total_time, step_order"
   ]
  },
  {
   "cell_type": "markdown",
   "metadata": {},
   "source": [
    "Test on example:"
   ]
  },
  {
   "cell_type": "code",
   "execution_count": 224,
   "metadata": {},
   "outputs": [
    {
     "name": "stdout",
     "output_type": "stream",
     "text": [
      "(15, [(3, 'C'), (4, 'A'), (6, 'B'), (9, 'F'), (10, 'D'), (15, 'E')])\n"
     ]
    }
   ],
   "source": [
    "with test_file(test_input) as f:\n",
    "    instructions = build_instructions(get_edges(f.name))\n",
    "    print(timed_execute(instructions, base_time=0, n_elves=2))"
   ]
  },
  {
   "cell_type": "markdown",
   "metadata": {},
   "source": [
    "Looks good! Run on real input:"
   ]
  },
  {
   "cell_type": "code",
   "execution_count": 225,
   "metadata": {},
   "outputs": [
    {
     "name": "stdout",
     "output_type": "stream",
     "text": [
      "1180\n"
     ]
    }
   ],
   "source": [
    "instructions = build_instructions(get_edges('input'))\n",
    "total_time, _ = timed_execute(instructions, base_time=60, n_elves=5)\n",
    "print(total_time)"
   ]
  }
 ],
 "metadata": {
  "kernelspec": {
   "display_name": "Python 3",
   "language": "python",
   "name": "python3"
  },
  "language_info": {
   "codemirror_mode": {
    "name": "ipython",
    "version": 3
   },
   "file_extension": ".py",
   "mimetype": "text/x-python",
   "name": "python",
   "nbconvert_exporter": "python",
   "pygments_lexer": "ipython3",
   "version": "3.6.5"
  }
 },
 "nbformat": 4,
 "nbformat_minor": 2
}
