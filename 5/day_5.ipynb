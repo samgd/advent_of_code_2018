{
 "cells": [
  {
   "cell_type": "markdown",
   "metadata": {},
   "source": [
    "## Advent of Code - Day 5"
   ]
  },
  {
   "cell_type": "code",
   "execution_count": 1,
   "metadata": {},
   "outputs": [],
   "source": [
    "import tempfile\n",
    "from contextlib import contextmanager"
   ]
  },
  {
   "cell_type": "code",
   "execution_count": 2,
   "metadata": {},
   "outputs": [],
   "source": [
    "@contextmanager\n",
    "def test_file(test_input):\n",
    "    with tempfile.NamedTemporaryFile('r+') as f:\n",
    "        f.write(test_input)\n",
    "        f.seek(0)\n",
    "        yield f"
   ]
  },
  {
   "cell_type": "markdown",
   "metadata": {},
   "source": [
    "### Part 1\n",
    "\n",
    "Idea: Scan through the input and push each character to a stack. When the top of the stack and the next character read have the same type but opposite polarity, discard both. This is $O(n)$ where $n$ is the length of the input. \n",
    "\n",
    "Start by creating a generator for each unit in the polymer:"
   ]
  },
  {
   "cell_type": "code",
   "execution_count": 167,
   "metadata": {},
   "outputs": [],
   "source": [
    "def get_polymer(path):\n",
    "    \"\"\"Yields each unit from the polymer stored at path.\"\"\"\n",
    "    chunk_size = 1024\n",
    "    with open(path, 'r') as f:\n",
    "        while True:\n",
    "            chunk = f.read(chunk_size)\n",
    "            if not chunk:\n",
    "                break\n",
    "            for unit in chunk:\n",
    "                if unit == '\\n':\n",
    "                    break\n",
    "                yield unit"
   ]
  },
  {
   "cell_type": "markdown",
   "metadata": {},
   "source": [
    "Check that this works:"
   ]
  },
  {
   "cell_type": "code",
   "execution_count": 168,
   "metadata": {},
   "outputs": [
    {
     "name": "stdout",
     "output_type": "stream",
     "text": [
      "['d', 'a', 'b', 'A', 'c', 'C', 'a', 'C', 'B', 'A', 'c', 'C', 'c', 'a', 'D', 'A']\n"
     ]
    }
   ],
   "source": [
    "test_input = \"dabAcCaCBAcCcaDA\"\n",
    "\n",
    "with test_file(test_input) as f:\n",
    "    print(list(get_polymer(f.name)))"
   ]
  },
  {
   "cell_type": "markdown",
   "metadata": {},
   "source": [
    "We'll need a function that checks if two units react:"
   ]
  },
  {
   "cell_type": "code",
   "execution_count": 169,
   "metadata": {},
   "outputs": [],
   "source": [
    "def react(unit_a, unit_b):\n",
    "    \"\"\"Returns true if the two units react.\"\"\"\n",
    "    return unit_a.lower() == unit_b.lower() and unit_a != unit_b"
   ]
  },
  {
   "cell_type": "code",
   "execution_count": 170,
   "metadata": {},
   "outputs": [
    {
     "data": {
      "text/plain": [
       "True"
      ]
     },
     "execution_count": 170,
     "metadata": {},
     "output_type": "execute_result"
    }
   ],
   "source": [
    "react('a', 'A')"
   ]
  },
  {
   "cell_type": "markdown",
   "metadata": {},
   "source": [
    "Now to iterate over the units, pushing each to a stack. If the top of the stack react, discard both and continue:"
   ]
  },
  {
   "cell_type": "code",
   "execution_count": 171,
   "metadata": {},
   "outputs": [],
   "source": [
    "def reaction_result(polymer, react=react):\n",
    "    \"\"\"Returns the result after reacting the polymer.\"\"\"\n",
    "    stack = []\n",
    "    for unit in polymer:\n",
    "        if stack and react(unit, stack[-1]):\n",
    "            stack.pop()\n",
    "            continue\n",
    "        stack.append(unit)\n",
    "    return ''.join(stack)"
   ]
  },
  {
   "cell_type": "markdown",
   "metadata": {},
   "source": [
    "Check that this works for the example input:"
   ]
  },
  {
   "cell_type": "code",
   "execution_count": 172,
   "metadata": {},
   "outputs": [
    {
     "data": {
      "text/plain": [
       "True"
      ]
     },
     "execution_count": 172,
     "metadata": {},
     "output_type": "execute_result"
    }
   ],
   "source": [
    "reaction_result(test_input) == \"dabCBAcaDA\""
   ]
  },
  {
   "cell_type": "markdown",
   "metadata": {},
   "source": [
    "Run on the real input:"
   ]
  },
  {
   "cell_type": "code",
   "execution_count": 173,
   "metadata": {},
   "outputs": [
    {
     "name": "stdout",
     "output_type": "stream",
     "text": [
      "day_5.ipynb  input\n"
     ]
    }
   ],
   "source": [
    "!ls"
   ]
  },
  {
   "cell_type": "code",
   "execution_count": 174,
   "metadata": {},
   "outputs": [
    {
     "name": "stdout",
     "output_type": "stream",
     "text": [
      "10774\n"
     ]
    }
   ],
   "source": [
    "print(len(reaction_result(get_polymer('input'))))"
   ]
  },
  {
   "cell_type": "markdown",
   "metadata": {},
   "source": [
    "### Part 2\n",
    "\n",
    "Naive solution: Iterate over unique unit type, filter units of that type and compute the lengths ensuring to keep a record of the shortest polymer and the unit removed."
   ]
  },
  {
   "cell_type": "code",
   "execution_count": 175,
   "metadata": {},
   "outputs": [],
   "source": [
    "def remove(unit, polymer):\n",
    "    \"\"\"Returns an iterator over polymer with both types of unit removed.\"\"\"\n",
    "    return filter(lambda u: u.lower() != unit.lower(), polymer)"
   ]
  },
  {
   "cell_type": "code",
   "execution_count": 179,
   "metadata": {},
   "outputs": [],
   "source": [
    "def shortest_polymer(polymer):\n",
    "    \"\"\"Returns len of shortest polymer after removal of all instances of a unit.\"\"\"\n",
    "    units = {c.lower() for c in polymer}\n",
    "    \n",
    "    shortest_len = None\n",
    "    for unit in units:\n",
    "        collapsed_len = len(reaction_result(remove(unit, polymer)))\n",
    "        if shortest_len is None or collapsed_len < shortest_len:\n",
    "            shortest_len = collapsed_len\n",
    "            \n",
    "    return shortest_len"
   ]
  },
  {
   "cell_type": "markdown",
   "metadata": {},
   "source": [
    "Check that this works for the test input:"
   ]
  },
  {
   "cell_type": "code",
   "execution_count": 180,
   "metadata": {},
   "outputs": [
    {
     "data": {
      "text/plain": [
       "4"
      ]
     },
     "execution_count": 180,
     "metadata": {},
     "output_type": "execute_result"
    }
   ],
   "source": [
    "shortest_polymer(list(test_input))"
   ]
  },
  {
   "cell_type": "markdown",
   "metadata": {},
   "source": [
    "Run on the real input - note it's OK to react the polymer first to speed things up a little!"
   ]
  },
  {
   "cell_type": "code",
   "execution_count": 182,
   "metadata": {},
   "outputs": [
    {
     "name": "stdout",
     "output_type": "stream",
     "text": [
      "199 ms ± 2.18 ms per loop (mean ± std. dev. of 7 runs, 1 loop each)\n"
     ]
    }
   ],
   "source": [
    "%%timeit\n",
    "shortest_polymer(reaction_result(get_polymer('input')))"
   ]
  }
 ],
 "metadata": {
  "kernelspec": {
   "display_name": "Python 3",
   "language": "python",
   "name": "python3"
  },
  "language_info": {
   "codemirror_mode": {
    "name": "ipython",
    "version": 3
   },
   "file_extension": ".py",
   "mimetype": "text/x-python",
   "name": "python",
   "nbconvert_exporter": "python",
   "pygments_lexer": "ipython3",
   "version": "3.7.1"
  }
 },
 "nbformat": 4,
 "nbformat_minor": 2
}
