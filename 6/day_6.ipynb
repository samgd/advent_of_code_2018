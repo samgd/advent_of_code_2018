{
 "cells": [
  {
   "cell_type": "markdown",
   "metadata": {},
   "source": [
    "## Advent of Code - Day 6"
   ]
  },
  {
   "cell_type": "code",
   "execution_count": 1,
   "metadata": {},
   "outputs": [],
   "source": [
    "import tempfile\n",
    "from contextlib import contextmanager"
   ]
  },
  {
   "cell_type": "code",
   "execution_count": 2,
   "metadata": {},
   "outputs": [],
   "source": [
    "@contextmanager\n",
    "def test_file(test_input):\n",
    "    with tempfile.NamedTemporaryFile('r+') as f:\n",
    "        f.write(test_input)\n",
    "        f.seek(0)\n",
    "        yield f"
   ]
  },
  {
   "cell_type": "markdown",
   "metadata": {},
   "source": [
    "### Part 1\n",
    "\n",
    "> Using only the Manhattan distance, determine the area around each coordinate by counting the number of integer X,Y locations that are closest to that coordinate (and aren't tired in distance to any other coordinate).\n",
    "\n",
    "> Your goal is to find the size of the largest area that isn't infinite."
   ]
  },
  {
   "cell_type": "markdown",
   "metadata": {},
   "source": [
    "The first thing to notice is that we only need to consider locations within the space bounded by the extreme points. \n",
    "\n",
    "Let $n_x$ and $n_y$ be the length of the x and y dimensions respectively in this bounded space. The naive solution is to iterate over each of the $O(n_x n_y)$ possible locations in the space and find the closest point. Finding the closest point is $O(k)$ where $k$ is the total number of points (Manhattan distance between two points is $O(1)$). Hence the total complexity is $O(n_x n_y k)$.\n",
    "\n",
    "Can we do better than $O(k)$ to find the nearest neighbor via Manhattan distance? Probably (using a k-d tree?) but for now lets write the naive solution pending more time than one evening after work permits.\n",
    "\n",
    "We start by parsing the points from the `input` file:"
   ]
  },
  {
   "cell_type": "code",
   "execution_count": 30,
   "metadata": {},
   "outputs": [
    {
     "name": "stdout",
     "output_type": "stream",
     "text": [
      "day_6.ipynb  input\n"
     ]
    }
   ],
   "source": [
    "!ls"
   ]
  },
  {
   "cell_type": "code",
   "execution_count": 31,
   "metadata": {},
   "outputs": [
    {
     "name": "stdout",
     "output_type": "stream",
     "text": [
      "242, 164\n",
      "275, 358\n",
      "244, 318\n",
      "301, 335\n",
      "310, 234\n",
      "159, 270\n",
      "82, 142\n",
      "229, 286\n",
      "339, 256\n",
      "305, 358\n"
     ]
    }
   ],
   "source": [
    "!head input"
   ]
  },
  {
   "cell_type": "code",
   "execution_count": 32,
   "metadata": {},
   "outputs": [],
   "source": [
    "import re\n",
    "from operator import itemgetter"
   ]
  },
  {
   "cell_type": "code",
   "execution_count": 33,
   "metadata": {},
   "outputs": [],
   "source": [
    "def get_points(path):\n",
    "    \"\"\"Yields each point from the file at path.\"\"\"\n",
    "    pattern = re.compile('^(\\d+), (\\d+)\\s?$')\n",
    "    with open(path, 'r') as f:\n",
    "        for line in f:\n",
    "            match = pattern.match(line)\n",
    "            if not match:\n",
    "                raise ValueError('invalid input file: %r' % path)\n",
    "            yield (tuple(int(c) for c in match.groups()))"
   ]
  },
  {
   "cell_type": "markdown",
   "metadata": {},
   "source": [
    "Check that this works for the example input:"
   ]
  },
  {
   "cell_type": "code",
   "execution_count": 34,
   "metadata": {},
   "outputs": [],
   "source": [
    "test_input = \"\"\"1, 1\n",
    "1, 6\n",
    "8, 3\n",
    "3, 4\n",
    "5, 5\n",
    "8, 9\n",
    "\"\"\""
   ]
  },
  {
   "cell_type": "code",
   "execution_count": 35,
   "metadata": {},
   "outputs": [
    {
     "name": "stdout",
     "output_type": "stream",
     "text": [
      "(1, 1)\n",
      "(1, 6)\n",
      "(8, 3)\n",
      "(3, 4)\n",
      "(5, 5)\n",
      "(8, 9)\n"
     ]
    }
   ],
   "source": [
    "with test_file(test_input) as f:\n",
    "    for p in get_points(f.name):\n",
    "        print(p)"
   ]
  },
  {
   "cell_type": "markdown",
   "metadata": {},
   "source": [
    "Now compute the space bounds:"
   ]
  },
  {
   "cell_type": "code",
   "execution_count": 37,
   "metadata": {},
   "outputs": [],
   "source": [
    "def get_bounds(points):\n",
    "    \"\"\"Returns the min and max bounnds for the space.\"\"\"\n",
    "    (x_min, y_min), (x_max, y_max) = (None, None), (None, None)\n",
    "    for x, y in points:\n",
    "        if x_min is None:\n",
    "            (x_min, y_min), (x_max, y_max) = (x, y), (x, y)\n",
    "        else:\n",
    "            x_min = min(x, x_min)\n",
    "            y_min = min(y, y_min)\n",
    "            x_max = max(x, x_max)\n",
    "            y_max = max(y, y_max)\n",
    "    return (x_min, y_min), (x_max, y_max)"
   ]
  },
  {
   "cell_type": "code",
   "execution_count": 38,
   "metadata": {},
   "outputs": [
    {
     "name": "stdout",
     "output_type": "stream",
     "text": [
      "((1, 1), (8, 9))\n"
     ]
    }
   ],
   "source": [
    "with test_file(test_input) as f:\n",
    "    print(get_bounds(get_points(f.name)))"
   ]
  },
  {
   "cell_type": "markdown",
   "metadata": {},
   "source": [
    "Note that points with infinite area will occur on the edges of the bounded space so we'll need a function to determine if a given location is on the edge of the space:"
   ]
  },
  {
   "cell_type": "code",
   "execution_count": 39,
   "metadata": {},
   "outputs": [],
   "source": [
    "def on_edge(location, bounds):\n",
    "    \"\"\"Returns True if the location is on the edge of the space.\"\"\"\n",
    "    x, y = location\n",
    "    (x_min, y_min), (x_max, y_max) = bounds\n",
    "    if (x == x_min or x == x_max) and y_min <= y <= y_max:\n",
    "        return True\n",
    "    if (y == y_min or y == y_max) and x_min <= x <= x_max:\n",
    "        return True\n",
    "    return False"
   ]
  },
  {
   "cell_type": "markdown",
   "metadata": {},
   "source": [
    "Now to iterate over the entire space:"
   ]
  },
  {
   "cell_type": "code",
   "execution_count": 40,
   "metadata": {},
   "outputs": [],
   "source": [
    "def locations(lower, upper):\n",
    "    \"\"\"Yields each possible location within the bounded space (inclusive).\"\"\"\n",
    "    x_min, y_min = lower\n",
    "    x_max, y_max = upper\n",
    "    for x in range(x_min, x_max + 1):\n",
    "        for y in range(y_min, y_max + 1):\n",
    "            yield x, y"
   ]
  },
  {
   "cell_type": "code",
   "execution_count": 41,
   "metadata": {},
   "outputs": [],
   "source": [
    "def manhattan(a, b):\n",
    "    \"\"\"Returns the Manhattan distance between a and b.\"\"\"\n",
    "    return abs(a[0] - b[0]) + abs(a[1] - b[1])"
   ]
  },
  {
   "cell_type": "markdown",
   "metadata": {},
   "source": [
    "OK! We have now bounded the space, can compute the locations that we need to iterate over, which locations are on the edge of the space, and the manhattan distance between two points. Putting this all together for the naive $O(n_x n_y k)$ method:"
   ]
  },
  {
   "cell_type": "code",
   "execution_count": 42,
   "metadata": {},
   "outputs": [],
   "source": [
    "def largest_area(path):\n",
    "    points = list(get_points(path))\n",
    "    bounds = get_bounds(points)\n",
    "    areas = [0] * len(points)\n",
    "    infinite = [False] * len(points)\n",
    "    \n",
    "    for location in locations(*bounds):\n",
    "        closest = None\n",
    "        equidistant = False\n",
    "        for i, point in enumerate(points):\n",
    "            distance = manhattan(location, point)\n",
    "            if closest is None or distance < closest[1]:\n",
    "                equidistant = False\n",
    "                closest = (i, distance)\n",
    "            elif distance == closest[1]:\n",
    "                equidistant = True\n",
    "                \n",
    "        if closest is not None and not equidistant:\n",
    "            areas[closest[0]] += 1\n",
    "            \n",
    "        if on_edge(location, bounds):\n",
    "            infinite[closest[0]] = True\n",
    "            \n",
    "    largest = None\n",
    "    for point, area, inf in zip(points, areas, infinite):\n",
    "        if inf:\n",
    "            continue\n",
    "        if largest is None or area > largest:\n",
    "            largest = area\n",
    "    \n",
    "    return largest"
   ]
  },
  {
   "cell_type": "code",
   "execution_count": 43,
   "metadata": {},
   "outputs": [
    {
     "name": "stdout",
     "output_type": "stream",
     "text": [
      "17\n"
     ]
    }
   ],
   "source": [
    "with test_file(test_input) as f:\n",
    "    print(largest_area(f.name))"
   ]
  },
  {
   "cell_type": "markdown",
   "metadata": {},
   "source": [
    "Looks good! Now for the real input:"
   ]
  },
  {
   "cell_type": "code",
   "execution_count": 44,
   "metadata": {},
   "outputs": [
    {
     "data": {
      "text/plain": [
       "5532"
      ]
     },
     "execution_count": 44,
     "metadata": {},
     "output_type": "execute_result"
    }
   ],
   "source": [
    "largest_area('input')"
   ]
  },
  {
   "cell_type": "markdown",
   "metadata": {},
   "source": [
    "### Part 2\n",
    "\n",
    "We may need to enlarge our search space given that the total distance is large. Expanding this ~10000 in each direction would result in computing 100M locations! That would take a while...\n",
    "\n",
    "Instead we'll first compute the result for the original space. We'll then consider a 1-coordinate wide band of locations around our original space. We continue growing the space by a band of width 1 until none of the new locations are within the required total distance. It is OK to stop once this happens as going out in any direction from here can only increase the distance from any point and hence the total distance.\n",
    "\n",
    "There may be a more optimal solution but it's late in the evening..."
   ]
  },
  {
   "cell_type": "code",
   "execution_count": 45,
   "metadata": {},
   "outputs": [],
   "source": [
    " def band_iter(lower, upper):\n",
    "    \"\"\"Yields values for the bounding box edge locations.\"\"\"\n",
    "    (x_min, y_min), (x_max, y_max) = lower, upper\n",
    "    \n",
    "    for x in range(x_min, x_max + 1):\n",
    "        yield x, y_min\n",
    "        yield x, y_max\n",
    "    for y in range(y_min + 1, y_max):\n",
    "        yield x_min, y\n",
    "        yield x_max, y\n",
    "\n",
    "def grow(lower, upper):\n",
    "    \"\"\"Returns the new bounds and a band iterator.\"\"\"\n",
    "    (x_min, y_min), (x_max, y_max) = lower, upper\n",
    "    \n",
    "    new_bounds = (x_min - 1, y_min - 1), (x_max + 1, y_max + 1)\n",
    "            \n",
    "    return new_bounds, band_iter(*new_bounds)"
   ]
  },
  {
   "cell_type": "code",
   "execution_count": 46,
   "metadata": {},
   "outputs": [],
   "source": [
    "def region_size(points, locations, total_distance):\n",
    "    \"\"\"Returns number of locations with total distance to points < `total_distance`.\"\"\"\n",
    "    size = 0\n",
    "    for location in locations:\n",
    "        distance = 0\n",
    "        for point in points:\n",
    "            distance += manhattan(location, point)\n",
    "            if distance >= total_distance:\n",
    "                break\n",
    "        else:\n",
    "            size += 1\n",
    "    return size"
   ]
  },
  {
   "cell_type": "code",
   "execution_count": 47,
   "metadata": {},
   "outputs": [],
   "source": [
    "def region(path, total_distance):\n",
    "    points = list(get_points(path))\n",
    "    bounds = get_bounds(points)\n",
    "    band_iter = locations(*bounds)\n",
    "    \n",
    "    size = 0\n",
    "    last_size = None\n",
    "    while last_size is None or last_size > 0:\n",
    "        last_size = region_size(points, \n",
    "                                band_iter, \n",
    "                                total_distance)\n",
    "        size += last_size\n",
    "        bounds, band_iter = grow(*bounds)\n",
    "        \n",
    "    return size"
   ]
  },
  {
   "cell_type": "markdown",
   "metadata": {},
   "source": [
    "Make sure this works on the example:"
   ]
  },
  {
   "cell_type": "code",
   "execution_count": 48,
   "metadata": {},
   "outputs": [
    {
     "name": "stdout",
     "output_type": "stream",
     "text": [
      "16\n"
     ]
    }
   ],
   "source": [
    "with test_file(test_input) as f:\n",
    "    print(region(f.name, total_distance=32))"
   ]
  },
  {
   "cell_type": "markdown",
   "metadata": {},
   "source": [
    "Apply to real input:"
   ]
  },
  {
   "cell_type": "code",
   "execution_count": 50,
   "metadata": {},
   "outputs": [
    {
     "data": {
      "text/plain": [
       "36216"
      ]
     },
     "execution_count": 50,
     "metadata": {},
     "output_type": "execute_result"
    }
   ],
   "source": [
    "region('input', total_distance=10000)"
   ]
  }
 ],
 "metadata": {
  "kernelspec": {
   "display_name": "Python 3",
   "language": "python",
   "name": "python3"
  },
  "language_info": {
   "codemirror_mode": {
    "name": "ipython",
    "version": 3
   },
   "file_extension": ".py",
   "mimetype": "text/x-python",
   "name": "python",
   "nbconvert_exporter": "python",
   "pygments_lexer": "ipython3",
   "version": "3.7.1"
  }
 },
 "nbformat": 4,
 "nbformat_minor": 2
}
