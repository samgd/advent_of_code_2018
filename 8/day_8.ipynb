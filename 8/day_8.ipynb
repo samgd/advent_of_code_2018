{
 "cells": [
  {
   "cell_type": "markdown",
   "metadata": {},
   "source": [
    "## Advent of Code - Day 8"
   ]
  },
  {
   "cell_type": "code",
   "execution_count": 5,
   "metadata": {},
   "outputs": [],
   "source": [
    "import tempfile\n",
    "from contextlib import contextmanager"
   ]
  },
  {
   "cell_type": "code",
   "execution_count": 6,
   "metadata": {},
   "outputs": [],
   "source": [
    "@contextmanager\n",
    "def test_file(test_input):\n",
    "    with tempfile.NamedTemporaryFile('r+') as f:\n",
    "        f.write(test_input)\n",
    "        f.seek(0)\n",
    "        yield f"
   ]
  },
  {
   "cell_type": "markdown",
   "metadata": {},
   "source": [
    "### Part 1\n",
    "\n",
    "Build a tree from the input and then traverse the tree to compute the sum. Addition is associative and commutative so it doesn't really matter how we traverse the tree. Begin by defining a node in the tree:"
   ]
  },
  {
   "cell_type": "code",
   "execution_count": 170,
   "metadata": {},
   "outputs": [],
   "source": [
    "class Node:\n",
    "    def __init__(self, metadata, children):\n",
    "        self.metadata = metadata\n",
    "        self.children = children"
   ]
  },
  {
   "cell_type": "markdown",
   "metadata": {},
   "source": [
    "and a function to read each number from the input file:"
   ]
  },
  {
   "cell_type": "code",
   "execution_count": 171,
   "metadata": {},
   "outputs": [],
   "source": [
    "def get_header(path):\n",
    "    \"\"\"Returns an iterator for the header file at path.\"\"\"\n",
    "    with open(path, 'r') as f:\n",
    "        num = []\n",
    "        while True:\n",
    "            data = f.read(1024)  # read 1KB chunks\n",
    "            if not data:\n",
    "                break\n",
    "            for c in data:\n",
    "                if c.isspace():\n",
    "                    yield int(''.join(num))\n",
    "                    num = []\n",
    "                else:\n",
    "                    num.append(c)\n",
    "        yield int(''.join(num))"
   ]
  },
  {
   "cell_type": "code",
   "execution_count": 172,
   "metadata": {},
   "outputs": [],
   "source": [
    "test_input = \"\"\"2 3 0 3 10 11 12 1 1 0 1 99 2 1 1 2\"\"\""
   ]
  },
  {
   "cell_type": "code",
   "execution_count": 173,
   "metadata": {},
   "outputs": [
    {
     "name": "stdout",
     "output_type": "stream",
     "text": [
      "2 3 0 3 10 11 12 1 1 0 1 99 2 1 1 2 \n"
     ]
    }
   ],
   "source": [
    "with test_file(test_input) as f:\n",
    "    for num in get_header(f.name):\n",
    "        print('%d' % num, end=' ')\n",
    "    print()"
   ]
  },
  {
   "cell_type": "markdown",
   "metadata": {},
   "source": [
    "Now to recursively build the tree and reduce it by summing the metadata entries:"
   ]
  },
  {
   "cell_type": "code",
   "execution_count": 174,
   "metadata": {},
   "outputs": [],
   "source": [
    "def build_tree(header_iter):\n",
    "    n_children = next(header_iter)\n",
    "    n_metadata = next(header_iter)\n",
    "    \n",
    "    children = []\n",
    "    for _ in range(n_children):\n",
    "        children.append(build_tree(header_iter))\n",
    "        \n",
    "    metadata = []\n",
    "    for _ in range(n_metadata):\n",
    "        metadata.append(next(header_iter))\n",
    "        \n",
    "    return Node(metadata, children)"
   ]
  },
  {
   "cell_type": "code",
   "execution_count": 196,
   "metadata": {},
   "outputs": [],
   "source": [
    "def reduce(root):\n",
    "    \"\"\"Reduces tree by summing all metadata entries.\"\"\"\n",
    "    val = sum(root.metadata)\n",
    "    for child in root.children:\n",
    "        val += reduce(child)\n",
    "    return val"
   ]
  },
  {
   "cell_type": "markdown",
   "metadata": {},
   "source": [
    "Try on test input:"
   ]
  },
  {
   "cell_type": "code",
   "execution_count": 197,
   "metadata": {},
   "outputs": [
    {
     "name": "stdout",
     "output_type": "stream",
     "text": [
      "138\n"
     ]
    }
   ],
   "source": [
    "with test_file(test_input) as f:\n",
    "    tree = build_tree(get_header(f.name))\n",
    "    print(reduce(tree))"
   ]
  },
  {
   "cell_type": "markdown",
   "metadata": {},
   "source": [
    "Now on real input:"
   ]
  },
  {
   "cell_type": "code",
   "execution_count": 198,
   "metadata": {},
   "outputs": [
    {
     "data": {
      "text/plain": [
       "45618"
      ]
     },
     "execution_count": 198,
     "metadata": {},
     "output_type": "execute_result"
    }
   ],
   "source": [
    "tree = build_tree(get_header('input'))\n",
    "reduce(tree)"
   ]
  },
  {
   "cell_type": "markdown",
   "metadata": {},
   "source": [
    "### Part 2"
   ]
  },
  {
   "cell_type": "code",
   "execution_count": 227,
   "metadata": {},
   "outputs": [],
   "source": [
    "def reduce(root):\n",
    "    if len(root.children) == 0:\n",
    "        return sum(root.metadata)\n",
    "    \n",
    "    val = 0\n",
    "    for i in root.metadata:\n",
    "        if i == 0:\n",
    "            continue\n",
    "        try:\n",
    "            val += reduce(root.children[i - 1])\n",
    "        except IndexError:\n",
    "            continue\n",
    "    return val"
   ]
  },
  {
   "cell_type": "markdown",
   "metadata": {},
   "source": [
    "Try on test input:"
   ]
  },
  {
   "cell_type": "code",
   "execution_count": 228,
   "metadata": {},
   "outputs": [
    {
     "name": "stdout",
     "output_type": "stream",
     "text": [
      "66\n"
     ]
    }
   ],
   "source": [
    "with test_file(test_input) as f:\n",
    "    tree = build_tree(get_header(f.name))\n",
    "    print(reduce(tree))"
   ]
  },
  {
   "cell_type": "markdown",
   "metadata": {},
   "source": [
    "and on real input:"
   ]
  },
  {
   "cell_type": "code",
   "execution_count": 229,
   "metadata": {},
   "outputs": [
    {
     "data": {
      "text/plain": [
       "22306"
      ]
     },
     "execution_count": 229,
     "metadata": {},
     "output_type": "execute_result"
    }
   ],
   "source": [
    "tree = build_tree(get_header('input'))\n",
    "reduce(tree)"
   ]
  }
 ],
 "metadata": {
  "kernelspec": {
   "display_name": "Python 3",
   "language": "python",
   "name": "python3"
  },
  "language_info": {
   "codemirror_mode": {
    "name": "ipython",
    "version": 3
   },
   "file_extension": ".py",
   "mimetype": "text/x-python",
   "name": "python",
   "nbconvert_exporter": "python",
   "pygments_lexer": "ipython3",
   "version": "3.6.5"
  }
 },
 "nbformat": 4,
 "nbformat_minor": 2
}
