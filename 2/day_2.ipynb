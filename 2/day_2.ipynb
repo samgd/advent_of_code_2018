{
 "cells": [
  {
   "cell_type": "markdown",
   "metadata": {},
   "source": [
    "## Advent of Code - Day 2"
   ]
  },
  {
   "cell_type": "code",
   "execution_count": 1,
   "metadata": {},
   "outputs": [],
   "source": [
    "import tempfile\n",
    "from contextlib import contextmanager"
   ]
  },
  {
   "cell_type": "code",
   "execution_count": 2,
   "metadata": {},
   "outputs": [],
   "source": [
    "@contextmanager\n",
    "def test_file(test_input):\n",
    "    with tempfile.NamedTemporaryFile('r+') as f:\n",
    "        f.write(test_input)\n",
    "        f.seek(0)\n",
    "        yield f"
   ]
  },
  {
   "cell_type": "markdown",
   "metadata": {},
   "source": [
    "### Part 1"
   ]
  },
  {
   "cell_type": "code",
   "execution_count": 3,
   "metadata": {},
   "outputs": [],
   "source": [
    "from collections import Counter\n",
    "from functools import reduce\n",
    "from operator import mul"
   ]
  },
  {
   "cell_type": "code",
   "execution_count": 4,
   "metadata": {},
   "outputs": [],
   "source": [
    "def get_box_ids(path):\n",
    "    \"\"\"Yields each box id from the file at path.\"\"\"\n",
    "    with open(path, 'r') as id_file:\n",
    "        for id_ in id_file:\n",
    "            yield id_.strip()\n",
    "            \n",
    "def letter_counts(box_id):\n",
    "    \"\"\"Returns a set of letter counts for `box_id`.\n",
    "    \n",
    "    Example:\n",
    "        >>> a, b, c appears once, twice, and three times respectively\n",
    "        >>> counts('bababc')\n",
    "        {1, 2, 3}\n",
    "        >>> a and b both appear three times\n",
    "        >>> counts('ababab')\n",
    "        {3}\n",
    "    \"\"\"\n",
    "    return set(Counter(Counter(box_id).values()))\n",
    "\n",
    "def repeat_counts(path):\n",
    "    \"\"\"Returns sum of `letter_counts` for each box id in path.\"\"\"\n",
    "    counts = Counter()\n",
    "    for box_id in get_box_ids(path):\n",
    "        counts.update(letter_counts(box_id))\n",
    "    return counts\n",
    "\n",
    "def checksum(path):\n",
    "    \"\"\"Returns the checksum for the file of box ids at path.\"\"\"\n",
    "    counts = repeat_counts(path)\n",
    "    return reduce(mul, [n for c, n in counts.items() if c > 1], 1)"
   ]
  },
  {
   "cell_type": "code",
   "execution_count": 5,
   "metadata": {},
   "outputs": [
    {
     "name": "stdout",
     "output_type": "stream",
     "text": [
      "12\n"
     ]
    }
   ],
   "source": [
    "# test to see that it's working on example\n",
    "\n",
    "part1_test_input = \"\"\"abcdef\n",
    "bababc\n",
    "abbcde\n",
    "abcccd\n",
    "aabcdd\n",
    "abcdee\n",
    "ababab\n",
    "\"\"\"\n",
    "\n",
    "with test_file(part1_test_input) as f:\n",
    "    print(checksum(f.name))"
   ]
  },
  {
   "cell_type": "code",
   "execution_count": 6,
   "metadata": {},
   "outputs": [
    {
     "name": "stdout",
     "output_type": "stream",
     "text": [
      "day_2.ipynb  input  requirements.txt\n"
     ]
    }
   ],
   "source": [
    "!ls"
   ]
  },
  {
   "cell_type": "code",
   "execution_count": 7,
   "metadata": {},
   "outputs": [
    {
     "data": {
      "text/plain": [
       "6474"
      ]
     },
     "execution_count": 7,
     "metadata": {},
     "output_type": "execute_result"
    }
   ],
   "source": [
    "checksum('input')"
   ]
  },
  {
   "cell_type": "markdown",
   "metadata": {},
   "source": [
    "### Part 2\n",
    "\n",
    "The idea is to iterate over each of the `n` box ids of length `m`. For each box id we replace, in turn, the character at position `[1, 2, ..., m]` with a `?`. For each of these `m` strings containing a `?` we perform a lookup in a trie - if present we know that we have previously seen a box id that differs by at most one character at position `i`. If not present we insert the string into the trie and continue. The question only asks for the differing characters so, if present, we just remove the `?` and return the string.\n",
    "\n",
    "There are `n` box ids and we perform at most `m` lookups and `m` entries for each id. Hence the complexity should be $O(nm^2)$. The space usage is $O(nm^2)$ as we store at most `m` entries with length `m` for each of the `n` strings which, at worst, could be unique. `m` is typically some small constant (e.g. 26 for my given input)."
   ]
  },
  {
   "cell_type": "code",
   "execution_count": 8,
   "metadata": {},
   "outputs": [],
   "source": [
    "import pygtrie"
   ]
  },
  {
   "cell_type": "code",
   "execution_count": 9,
   "metadata": {},
   "outputs": [],
   "source": [
    "def all_single_unknown(box_id, unknown='?'):\n",
    "    \"\"\"Yields all variations of `box_id` with one char replaced with `unknown`.\n",
    "    \n",
    "    Example:\n",
    "        >>> list(all_single_unknown('abcde'))\n",
    "        ['?bcde', 'a?cde', 'ab?de', 'abc?e', 'abcd?']\n",
    "    \"\"\"\n",
    "    for i in range(0, len(box_id)):\n",
    "        yield box_id[:i] + unknown + box_id[i + 1:]"
   ]
  },
  {
   "cell_type": "code",
   "execution_count": 10,
   "metadata": {},
   "outputs": [],
   "source": [
    "def find_correct_ids(path):\n",
    "    \"\"\"Returns the common letters from box ids with edit distance 1 at path.\"\"\"\n",
    "    trie = pygtrie.StringTrie()\n",
    "    for box_id in get_box_ids(path):\n",
    "        for unk_id in all_single_unknown(box_id):\n",
    "            if unk_id in trie:\n",
    "                return unk_id.replace('?', '')\n",
    "            trie[unk_id] = None"
   ]
  },
  {
   "cell_type": "code",
   "execution_count": 11,
   "metadata": {},
   "outputs": [
    {
     "name": "stdout",
     "output_type": "stream",
     "text": [
      "fgij\n"
     ]
    }
   ],
   "source": [
    "# test to see that it's working on example\n",
    "\n",
    "part2_test_input = \"\"\"abcde\n",
    "fghij\n",
    "klmno\n",
    "pqrst\n",
    "fguij\n",
    "axcye\n",
    "wvxyz\n",
    "\"\"\"\n",
    "\n",
    "with test_file(part2_test_input) as f:\n",
    "    print(find_correct_ids(f.name))"
   ]
  },
  {
   "cell_type": "code",
   "execution_count": 12,
   "metadata": {},
   "outputs": [
    {
     "name": "stdout",
     "output_type": "stream",
     "text": [
      "day_2.ipynb  input  requirements.txt\n"
     ]
    }
   ],
   "source": [
    "!ls"
   ]
  },
  {
   "cell_type": "code",
   "execution_count": 13,
   "metadata": {},
   "outputs": [
    {
     "name": "stdout",
     "output_type": "stream",
     "text": [
      "mxhwoglxgeauywfkztndcvjqr\n"
     ]
    }
   ],
   "source": [
    "print(find_correct_ids('input'))"
   ]
  }
 ],
 "metadata": {
  "kernelspec": {
   "display_name": "Python 3",
   "language": "python",
   "name": "python3"
  },
  "language_info": {
   "codemirror_mode": {
    "name": "ipython",
    "version": 3
   },
   "file_extension": ".py",
   "mimetype": "text/x-python",
   "name": "python",
   "nbconvert_exporter": "python",
   "pygments_lexer": "ipython3",
   "version": "3.7.1"
  }
 },
 "nbformat": 4,
 "nbformat_minor": 2
}
