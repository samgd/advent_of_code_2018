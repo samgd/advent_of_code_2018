{
 "cells": [
  {
   "cell_type": "markdown",
   "metadata": {},
   "source": [
    "## Advent of Code - Day 2"
   ]
  },
  {
   "cell_type": "code",
   "execution_count": 1,
   "metadata": {},
   "outputs": [],
   "source": [
    "import tempfile\n",
    "from contextlib import contextmanager"
   ]
  },
  {
   "cell_type": "code",
   "execution_count": 2,
   "metadata": {},
   "outputs": [],
   "source": [
    "test_input = \"\"\"abcdef\n",
    "bababc\n",
    "abbcde\n",
    "abcccd\n",
    "aabcdd\n",
    "abcdee\n",
    "ababab\n",
    "\"\"\""
   ]
  },
  {
   "cell_type": "code",
   "execution_count": 3,
   "metadata": {},
   "outputs": [],
   "source": [
    "@contextmanager\n",
    "def test_file():\n",
    "    with tempfile.NamedTemporaryFile('r+') as f:\n",
    "        f.write(test_input)\n",
    "        f.seek(0)\n",
    "        yield f"
   ]
  },
  {
   "cell_type": "markdown",
   "metadata": {},
   "source": [
    "### Part 1"
   ]
  },
  {
   "cell_type": "code",
   "execution_count": 4,
   "metadata": {},
   "outputs": [],
   "source": [
    "from collections import Counter\n",
    "from functools import reduce\n",
    "from operator import mul"
   ]
  },
  {
   "cell_type": "code",
   "execution_count": 5,
   "metadata": {},
   "outputs": [],
   "source": [
    "def get_box_ids(path):\n",
    "    \"\"\"Yields each box id from the file at path.\"\"\"\n",
    "    with open(path, 'r') as id_file:\n",
    "        for id_ in id_file:\n",
    "            yield id_.strip()\n",
    "            \n",
    "def letter_counts(box_id):\n",
    "    \"\"\"Returns a set of letter counts for `box_id`.\n",
    "    \n",
    "    Example:\n",
    "        >>> a, b, c appears once, twice, and three times respectively\n",
    "        >>> counts('bababc')\n",
    "        {1, 2, 3}\n",
    "        >>> a and b both appear three times\n",
    "        >>> counts('ababab')\n",
    "        {3}\n",
    "    \"\"\"\n",
    "    return set(Counter(Counter(box_id).values()))\n",
    "\n",
    "def repeat_counts(path):\n",
    "    \"\"\"Returns sum of `letter_counts for\"\"\"\n",
    "    counts = Counter()\n",
    "    for box_id in get_box_ids(path):\n",
    "        counts.update(letter_counts(box_id))\n",
    "    return counts\n",
    "\n",
    "def checksum(path):\n",
    "    \"\"\"Returns the checksum for the file of box ids at path.\"\"\"\n",
    "    counts = repeat_counts(path)\n",
    "    return reduce(mul, [n for c, n in counts.items() if c > 1], 1)"
   ]
  },
  {
   "cell_type": "code",
   "execution_count": 6,
   "metadata": {},
   "outputs": [
    {
     "name": "stdout",
     "output_type": "stream",
     "text": [
      "Counter({1: 6, 2: 4, 3: 3})\n"
     ]
    }
   ],
   "source": [
    "with test_file() as f:\n",
    "    print(repeat_counts(f.name))"
   ]
  },
  {
   "cell_type": "code",
   "execution_count": 7,
   "metadata": {},
   "outputs": [
    {
     "name": "stdout",
     "output_type": "stream",
     "text": [
      "12\n"
     ]
    }
   ],
   "source": [
    "# test to see that it's working on example\n",
    "with test_file() as f:\n",
    "    print(checksum(f.name))"
   ]
  },
  {
   "cell_type": "code",
   "execution_count": 8,
   "metadata": {},
   "outputs": [
    {
     "name": "stdout",
     "output_type": "stream",
     "text": [
      "day_2.ipynb  input\n"
     ]
    }
   ],
   "source": [
    "!ls"
   ]
  },
  {
   "cell_type": "code",
   "execution_count": 9,
   "metadata": {},
   "outputs": [
    {
     "data": {
      "text/plain": [
       "6474"
      ]
     },
     "execution_count": 9,
     "metadata": {},
     "output_type": "execute_result"
    }
   ],
   "source": [
    "checksum('input')"
   ]
  },
  {
   "cell_type": "markdown",
   "metadata": {},
   "source": [
    "### Part 2"
   ]
  },
  {
   "cell_type": "markdown",
   "metadata": {},
   "source": [
    "The naive method in pseudocode would be:\n",
    "\n",
    "```python\n",
    "matches = defaultdict(set)\n",
    "for i, box_id in enumerate(box_ids):\n",
    "    for candidate in box_ids[i + 1:]:\n",
    "        if diff(box_id, candidate) <= 1:\n",
    "            matches['box_id'].add(cand\n",
    "\n",
    "```"
   ]
  },
  {
   "cell_type": "code",
   "execution_count": 14,
   "metadata": {},
   "outputs": [],
   "source": [
    "from collections import defaultdict"
   ]
  },
  {
   "cell_type": "code",
   "execution_count": 16,
   "metadata": {},
   "outputs": [
    {
     "data": {
      "text/plain": [
       "defaultdict(set, {})"
      ]
     },
     "execution_count": 16,
     "metadata": {},
     "output_type": "execute_result"
    }
   ],
   "source": [
    "defaultdict(set)"
   ]
  },
  {
   "cell_type": "code",
   "execution_count": 21,
   "metadata": {},
   "outputs": [],
   "source": [
    "x = defaultdict(set)"
   ]
  },
  {
   "cell_type": "code",
   "execution_count": 22,
   "metadata": {},
   "outputs": [
    {
     "data": {
      "text/plain": [
       "set()"
      ]
     },
     "execution_count": 22,
     "metadata": {},
     "output_type": "execute_result"
    }
   ],
   "source": [
    "x['foo']"
   ]
  },
  {
   "cell_type": "code",
   "execution_count": null,
   "metadata": {},
   "outputs": [],
   "source": []
  }
 ],
 "metadata": {
  "kernelspec": {
   "display_name": "Python 3",
   "language": "python",
   "name": "python3"
  },
  "language_info": {
   "codemirror_mode": {
    "name": "ipython",
    "version": 3
   },
   "file_extension": ".py",
   "mimetype": "text/x-python",
   "name": "python",
   "nbconvert_exporter": "python",
   "pygments_lexer": "ipython3",
   "version": "3.7.1"
  }
 },
 "nbformat": 4,
 "nbformat_minor": 2
}
